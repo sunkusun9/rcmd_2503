{
 "cells": [
  {
   "cell_type": "markdown",
   "id": "76a1f9bc-fa4f-4b48-b3cd-b640431d5012",
   "metadata": {},
   "source": [
    "# 환경 구성\n"
   ]
  },
  {
   "cell_type": "code",
   "execution_count": 15,
   "id": "a3c814ef-907a-44c6-8f1f-8356f86d0c86",
   "metadata": {},
   "outputs": [
    {
     "name": "stdout",
     "output_type": "stream",
     "text": [
      "Python 3.12.9 (main, Mar 15 2025, 13:36:28) [GCC 13.3.0]\n"
     ]
    }
   ],
   "source": [
    "import os\n",
    "import sys\n",
    "print('Python', sys.version)"
   ]
  },
  {
   "cell_type": "markdown",
   "id": "c7206ce4-3712-400d-978a-416e464599eb",
   "metadata": {},
   "source": [
    "## 주요 패키지"
   ]
  },
  {
   "cell_type": "markdown",
   "id": "862a4908-969d-4269-b285-8e6c6b051a4f",
   "metadata": {},
   "source": [
    "### pandas\n",
    "\n",
    "데이터 처리 라이브러리"
   ]
  },
  {
   "cell_type": "code",
   "execution_count": 2,
   "id": "7b5437d6-2f07-44b3-a0ee-7333f09e370b",
   "metadata": {},
   "outputs": [
    {
     "name": "stdout",
     "output_type": "stream",
     "text": [
      "Collecting pandas\n",
      "  Downloading pandas-2.2.3-cp312-cp312-manylinux_2_17_x86_64.manylinux2014_x86_64.whl.metadata (89 kB)\n",
      "Requirement already satisfied: numpy>=1.26.0 in /home/sun9sun9/python312/lib/python3.12/site-packages (from pandas) (2.2.3)\n",
      "Requirement already satisfied: python-dateutil>=2.8.2 in /home/sun9sun9/python312/lib/python3.12/site-packages (from pandas) (2.9.0.post0)\n",
      "Collecting pytz>=2020.1 (from pandas)\n",
      "  Downloading pytz-2025.1-py2.py3-none-any.whl.metadata (22 kB)\n",
      "Collecting tzdata>=2022.7 (from pandas)\n",
      "  Downloading tzdata-2025.1-py2.py3-none-any.whl.metadata (1.4 kB)\n",
      "Requirement already satisfied: six>=1.5 in /home/sun9sun9/python312/lib/python3.12/site-packages (from python-dateutil>=2.8.2->pandas) (1.17.0)\n",
      "Downloading pandas-2.2.3-cp312-cp312-manylinux_2_17_x86_64.manylinux2014_x86_64.whl (12.7 MB)\n",
      "\u001b[2K   \u001b[90m━━━━━━━━━━━━━━━━━━━━━━━━━━━━━━━━━━━━━━━━\u001b[0m \u001b[32m12.7/12.7 MB\u001b[0m \u001b[31m249.9 kB/s\u001b[0m eta \u001b[36m0:00:00\u001b[0m00:01\u001b[0m00:02\u001b[0m\n",
      "\u001b[?25hDownloading pytz-2025.1-py2.py3-none-any.whl (507 kB)\n",
      "Downloading tzdata-2025.1-py2.py3-none-any.whl (346 kB)\n",
      "Installing collected packages: pytz, tzdata, pandas\n",
      "Successfully installed pandas-2.2.3 pytz-2025.1 tzdata-2025.1\n"
     ]
    },
    {
     "data": {
      "text/plain": [
       "('pandas', '2.2.3')"
      ]
     },
     "execution_count": 2,
     "metadata": {},
     "output_type": "execute_result"
    }
   ],
   "source": [
    "try:\n",
    "    import pandas as pd\n",
    "except:\n",
    "    !pip install --upgrade pandas\n",
    "    import pandas as pd\n",
    "\n",
    "pd.__name__, pd.__version__"
   ]
  },
  {
   "cell_type": "markdown",
   "id": "92f21288-9fe2-4c91-8672-c85b796b966d",
   "metadata": {},
   "source": [
    "### numpy\n",
    "\n",
    "수치 연산 라이브러리"
   ]
  },
  {
   "cell_type": "code",
   "execution_count": 3,
   "id": "591deafa-2ebe-4ba9-902d-2e01f74916c4",
   "metadata": {},
   "outputs": [
    {
     "data": {
      "text/plain": [
       "('numpy', '2.2.3')"
      ]
     },
     "execution_count": 3,
     "metadata": {},
     "output_type": "execute_result"
    }
   ],
   "source": [
    "try:\n",
    "    import numpy as np\n",
    "except:\n",
    "    !pip install --upgrade numpy \n",
    "    import numpy as np\n",
    "\n",
    "np.__name__, np.__version__"
   ]
  },
  {
   "cell_type": "markdown",
   "id": "e215bbc2-840b-4a7a-beca-f800d7a2e17c",
   "metadata": {},
   "source": [
    "### scipy\n",
    "\n",
    "과학용 수치 연산 라이브러리"
   ]
  },
  {
   "cell_type": "code",
   "execution_count": 4,
   "id": "d477cd46-2d96-41f6-8b61-32621f6317d8",
   "metadata": {},
   "outputs": [
    {
     "data": {
      "text/plain": [
       "('scipy', '1.15.2')"
      ]
     },
     "execution_count": 4,
     "metadata": {},
     "output_type": "execute_result"
    }
   ],
   "source": [
    "try:\n",
    "    import scipy\n",
    "except:\n",
    "    !pip install --upgrade scipy\n",
    "    import scipy\n",
    "\n",
    "scipy.__name__, scipy.__version__"
   ]
  },
  {
   "cell_type": "markdown",
   "id": "5150247e-166e-41fe-b2d3-d62ffece5e10",
   "metadata": {},
   "source": [
    "### scikit-learn\n",
    "\n",
    "머신러닝 라이브러리"
   ]
  },
  {
   "cell_type": "code",
   "execution_count": 5,
   "id": "ee47c8a5-7065-4395-ac81-08cdc7861758",
   "metadata": {},
   "outputs": [
    {
     "name": "stdout",
     "output_type": "stream",
     "text": [
      "Collecting scikit-learn\n",
      "  Downloading scikit_learn-1.6.1-cp312-cp312-manylinux_2_17_x86_64.manylinux2014_x86_64.whl.metadata (18 kB)\n",
      "Requirement already satisfied: numpy>=1.19.5 in /home/sun9sun9/python312/lib/python3.12/site-packages (from scikit-learn) (2.2.3)\n",
      "Requirement already satisfied: scipy>=1.6.0 in /home/sun9sun9/python312/lib/python3.12/site-packages (from scikit-learn) (1.15.2)\n",
      "Collecting joblib>=1.2.0 (from scikit-learn)\n",
      "  Downloading joblib-1.4.2-py3-none-any.whl.metadata (5.4 kB)\n",
      "Collecting threadpoolctl>=3.1.0 (from scikit-learn)\n",
      "  Downloading threadpoolctl-3.6.0-py3-none-any.whl.metadata (13 kB)\n",
      "Downloading scikit_learn-1.6.1-cp312-cp312-manylinux_2_17_x86_64.manylinux2014_x86_64.whl (13.1 MB)\n",
      "\u001b[2K   \u001b[90m━━━━━━━━━━━━━━━━━━━━━━━━━━━━━━━━━━━━━━━━\u001b[0m \u001b[32m13.1/13.1 MB\u001b[0m \u001b[31m13.8 MB/s\u001b[0m eta \u001b[36m0:00:00\u001b[0ma \u001b[36m0:00:01\u001b[0m\n",
      "\u001b[?25hDownloading joblib-1.4.2-py3-none-any.whl (301 kB)\n",
      "Downloading threadpoolctl-3.6.0-py3-none-any.whl (18 kB)\n",
      "Installing collected packages: threadpoolctl, joblib, scikit-learn\n",
      "Successfully installed joblib-1.4.2 scikit-learn-1.6.1 threadpoolctl-3.6.0\n"
     ]
    },
    {
     "data": {
      "text/plain": [
       "('sklearn', '1.6.1')"
      ]
     },
     "execution_count": 5,
     "metadata": {},
     "output_type": "execute_result"
    }
   ],
   "source": [
    "try:\n",
    "    import sklearn\n",
    "except:\n",
    "    !pip install --upgrade scikit-learn\n",
    "    import sklearn\n",
    "sklearn.__name__, sklearn.__version__"
   ]
  },
  {
   "cell_type": "markdown",
   "id": "14631192-22fc-4df8-b789-2d8cabccc1c8",
   "metadata": {},
   "source": [
    "### matplotlib\n",
    "\n",
    "시각화 라이브러리"
   ]
  },
  {
   "cell_type": "code",
   "execution_count": 6,
   "id": "627bfa73-13af-4e32-827e-6327e9daa863",
   "metadata": {},
   "outputs": [
    {
     "name": "stdout",
     "output_type": "stream",
     "text": [
      "Collecting matplotlib\n",
      "  Downloading matplotlib-3.10.1-cp312-cp312-manylinux_2_17_x86_64.manylinux2014_x86_64.whl.metadata (11 kB)\n",
      "Collecting contourpy>=1.0.1 (from matplotlib)\n",
      "  Downloading contourpy-1.3.1-cp312-cp312-manylinux_2_17_x86_64.manylinux2014_x86_64.whl.metadata (5.4 kB)\n",
      "Collecting cycler>=0.10 (from matplotlib)\n",
      "  Downloading cycler-0.12.1-py3-none-any.whl.metadata (3.8 kB)\n",
      "Collecting fonttools>=4.22.0 (from matplotlib)\n",
      "  Downloading fonttools-4.56.0-cp312-cp312-manylinux_2_5_x86_64.manylinux1_x86_64.manylinux_2_17_x86_64.manylinux2014_x86_64.whl.metadata (101 kB)\n",
      "Collecting kiwisolver>=1.3.1 (from matplotlib)\n",
      "  Downloading kiwisolver-1.4.8-cp312-cp312-manylinux_2_17_x86_64.manylinux2014_x86_64.whl.metadata (6.2 kB)\n",
      "Requirement already satisfied: numpy>=1.23 in /home/sun9sun9/python312/lib/python3.12/site-packages (from matplotlib) (2.2.3)\n",
      "Requirement already satisfied: packaging>=20.0 in /home/sun9sun9/python312/lib/python3.12/site-packages (from matplotlib) (24.2)\n",
      "Collecting pillow>=8 (from matplotlib)\n",
      "  Downloading pillow-11.1.0-cp312-cp312-manylinux_2_28_x86_64.whl.metadata (9.1 kB)\n",
      "Collecting pyparsing>=2.3.1 (from matplotlib)\n",
      "  Downloading pyparsing-3.2.1-py3-none-any.whl.metadata (5.0 kB)\n",
      "Requirement already satisfied: python-dateutil>=2.7 in /home/sun9sun9/python312/lib/python3.12/site-packages (from matplotlib) (2.9.0.post0)\n",
      "Requirement already satisfied: six>=1.5 in /home/sun9sun9/python312/lib/python3.12/site-packages (from python-dateutil>=2.7->matplotlib) (1.17.0)\n",
      "Downloading matplotlib-3.10.1-cp312-cp312-manylinux_2_17_x86_64.manylinux2014_x86_64.whl (8.6 MB)\n",
      "\u001b[2K   \u001b[90m━━━━━━━━━━━━━━━━━━━━━━━━━━━━━━━━━━━━━━━━\u001b[0m \u001b[32m8.6/8.6 MB\u001b[0m \u001b[31m13.7 MB/s\u001b[0m eta \u001b[36m0:00:00\u001b[0m00:01\u001b[0m00:01\u001b[0m\n",
      "\u001b[?25hDownloading contourpy-1.3.1-cp312-cp312-manylinux_2_17_x86_64.manylinux2014_x86_64.whl (323 kB)\n",
      "Downloading cycler-0.12.1-py3-none-any.whl (8.3 kB)\n",
      "Downloading fonttools-4.56.0-cp312-cp312-manylinux_2_5_x86_64.manylinux1_x86_64.manylinux_2_17_x86_64.manylinux2014_x86_64.whl (4.9 MB)\n",
      "\u001b[2K   \u001b[90m━━━━━━━━━━━━━━━━━━━━━━━━━━━━━━━━━━━━━━━━\u001b[0m \u001b[32m4.9/4.9 MB\u001b[0m \u001b[31m14.5 MB/s\u001b[0m eta \u001b[36m0:00:00\u001b[0ma \u001b[36m0:00:01\u001b[0m\n",
      "\u001b[?25hDownloading kiwisolver-1.4.8-cp312-cp312-manylinux_2_17_x86_64.manylinux2014_x86_64.whl (1.5 MB)\n",
      "\u001b[2K   \u001b[90m━━━━━━━━━━━━━━━━━━━━━━━━━━━━━━━━━━━━━━━━\u001b[0m \u001b[32m1.5/1.5 MB\u001b[0m \u001b[31m11.1 MB/s\u001b[0m eta \u001b[36m0:00:00\u001b[0m\n",
      "\u001b[?25hDownloading pillow-11.1.0-cp312-cp312-manylinux_2_28_x86_64.whl (4.5 MB)\n",
      "\u001b[2K   \u001b[90m━━━━━━━━━━━━━━━━━━━━━━━━━━━━━━━━━━━━━━━━\u001b[0m \u001b[32m4.5/4.5 MB\u001b[0m \u001b[31m4.7 MB/s\u001b[0m eta \u001b[36m0:00:00\u001b[0mta \u001b[36m0:00:01\u001b[0m\n",
      "\u001b[?25hDownloading pyparsing-3.2.1-py3-none-any.whl (107 kB)\n",
      "Installing collected packages: pyparsing, pillow, kiwisolver, fonttools, cycler, contourpy, matplotlib\n",
      "Successfully installed contourpy-1.3.1 cycler-0.12.1 fonttools-4.56.0 kiwisolver-1.4.8 matplotlib-3.10.1 pillow-11.1.0 pyparsing-3.2.1\n"
     ]
    },
    {
     "data": {
      "text/plain": [
       "('matplotlib', '3.10.1')"
      ]
     },
     "execution_count": 6,
     "metadata": {},
     "output_type": "execute_result"
    }
   ],
   "source": [
    "try:\n",
    "    import matplotlib as mpl\n",
    "except:\n",
    "    !pip install --upgrade matplotlib\n",
    "    import matplotlib as mpl\n",
    "mpl.__name__, mpl.__version__"
   ]
  },
  {
   "cell_type": "markdown",
   "id": "838471f8-bec3-43b4-bba9-d87e9d5595a3",
   "metadata": {},
   "source": [
    "### seaborn\n",
    "\n",
    "차트 중심 시각화 라이브러리"
   ]
  },
  {
   "cell_type": "code",
   "execution_count": 7,
   "id": "d031e0f1-9c0a-4974-8bd0-9ffb9ce037bd",
   "metadata": {},
   "outputs": [
    {
     "name": "stdout",
     "output_type": "stream",
     "text": [
      "Collecting seaborn\n",
      "  Downloading seaborn-0.13.2-py3-none-any.whl.metadata (5.4 kB)\n",
      "Requirement already satisfied: numpy!=1.24.0,>=1.20 in /home/sun9sun9/python312/lib/python3.12/site-packages (from seaborn) (2.2.3)\n",
      "Requirement already satisfied: pandas>=1.2 in /home/sun9sun9/python312/lib/python3.12/site-packages (from seaborn) (2.2.3)\n",
      "Requirement already satisfied: matplotlib!=3.6.1,>=3.4 in /home/sun9sun9/python312/lib/python3.12/site-packages (from seaborn) (3.10.1)\n",
      "Requirement already satisfied: contourpy>=1.0.1 in /home/sun9sun9/python312/lib/python3.12/site-packages (from matplotlib!=3.6.1,>=3.4->seaborn) (1.3.1)\n",
      "Requirement already satisfied: cycler>=0.10 in /home/sun9sun9/python312/lib/python3.12/site-packages (from matplotlib!=3.6.1,>=3.4->seaborn) (0.12.1)\n",
      "Requirement already satisfied: fonttools>=4.22.0 in /home/sun9sun9/python312/lib/python3.12/site-packages (from matplotlib!=3.6.1,>=3.4->seaborn) (4.56.0)\n",
      "Requirement already satisfied: kiwisolver>=1.3.1 in /home/sun9sun9/python312/lib/python3.12/site-packages (from matplotlib!=3.6.1,>=3.4->seaborn) (1.4.8)\n",
      "Requirement already satisfied: packaging>=20.0 in /home/sun9sun9/python312/lib/python3.12/site-packages (from matplotlib!=3.6.1,>=3.4->seaborn) (24.2)\n",
      "Requirement already satisfied: pillow>=8 in /home/sun9sun9/python312/lib/python3.12/site-packages (from matplotlib!=3.6.1,>=3.4->seaborn) (11.1.0)\n",
      "Requirement already satisfied: pyparsing>=2.3.1 in /home/sun9sun9/python312/lib/python3.12/site-packages (from matplotlib!=3.6.1,>=3.4->seaborn) (3.2.1)\n",
      "Requirement already satisfied: python-dateutil>=2.7 in /home/sun9sun9/python312/lib/python3.12/site-packages (from matplotlib!=3.6.1,>=3.4->seaborn) (2.9.0.post0)\n",
      "Requirement already satisfied: pytz>=2020.1 in /home/sun9sun9/python312/lib/python3.12/site-packages (from pandas>=1.2->seaborn) (2025.1)\n",
      "Requirement already satisfied: tzdata>=2022.7 in /home/sun9sun9/python312/lib/python3.12/site-packages (from pandas>=1.2->seaborn) (2025.1)\n",
      "Requirement already satisfied: six>=1.5 in /home/sun9sun9/python312/lib/python3.12/site-packages (from python-dateutil>=2.7->matplotlib!=3.6.1,>=3.4->seaborn) (1.17.0)\n",
      "Downloading seaborn-0.13.2-py3-none-any.whl (294 kB)\n",
      "Installing collected packages: seaborn\n",
      "Successfully installed seaborn-0.13.2\n"
     ]
    },
    {
     "data": {
      "text/plain": [
       "('seaborn', '0.13.2')"
      ]
     },
     "execution_count": 7,
     "metadata": {},
     "output_type": "execute_result"
    }
   ],
   "source": [
    "try:\n",
    "    import seaborn as sns\n",
    "except:\n",
    "    !pip install --upgrade seaborn\n",
    "    import seaborn as sns\n",
    "sns.__name__, sns.__version__"
   ]
  },
  {
   "cell_type": "markdown",
   "id": "a34e3ca3-8278-446b-85df-ff796844d1ce",
   "metadata": {},
   "source": [
    "### LightGBM\n",
    "\n",
    "Gradient Boosting Tree 라이브러리"
   ]
  },
  {
   "cell_type": "code",
   "execution_count": 8,
   "id": "02d7b336-f6af-4849-afb3-3c11481b56bc",
   "metadata": {},
   "outputs": [
    {
     "ename": "AttributeError",
     "evalue": "module 'lightgbm' has no attribute '__version__'",
     "output_type": "error",
     "traceback": [
      "\u001b[31m---------------------------------------------------------------------------\u001b[39m",
      "\u001b[31mAttributeError\u001b[39m                            Traceback (most recent call last)",
      "\u001b[36mCell\u001b[39m\u001b[36m \u001b[39m\u001b[32mIn[8]\u001b[39m\u001b[32m, line 6\u001b[39m\n\u001b[32m      4\u001b[39m     get_ipython().system(\u001b[33m'\u001b[39m\u001b[33mpip install --upgrade lightgbm\u001b[39m\u001b[33m'\u001b[39m)\n\u001b[32m      5\u001b[39m     \u001b[38;5;28;01mimport\u001b[39;00m\u001b[38;5;250m \u001b[39m\u001b[34;01mlightgbm\u001b[39;00m\u001b[38;5;250m \u001b[39m\u001b[38;5;28;01mas\u001b[39;00m\u001b[38;5;250m \u001b[39m\u001b[34;01mlgb\u001b[39;00m\n\u001b[32m----> \u001b[39m\u001b[32m6\u001b[39m lgb.\u001b[34m__name__\u001b[39m, \u001b[43mlgb\u001b[49m\u001b[43m.\u001b[49m\u001b[43m__version__\u001b[49m\n",
      "\u001b[31mAttributeError\u001b[39m: module 'lightgbm' has no attribute '__version__'"
     ]
    }
   ],
   "source": [
    "try:\n",
    "    import lightgbm as lgb\n",
    "except:\n",
    "    !pip install --upgrade lightgbm\n",
    "    import lightgbm as lgb\n",
    "lgb.__name__, lgb.__version__"
   ]
  },
  {
   "cell_type": "markdown",
   "id": "f08da741-eaf7-4605-b30d-6babb72e781a",
   "metadata": {},
   "source": [
    "### KIWI\n",
    "\n",
    "한글 형태소 분석기: [KIWI](https://github.com/bab2min/kiwipiepy)"
   ]
  },
  {
   "cell_type": "code",
   "execution_count": 9,
   "id": "dd76e7fd-cead-40cb-b11e-a0925b04c15f",
   "metadata": {},
   "outputs": [
    {
     "name": "stdout",
     "output_type": "stream",
     "text": [
      "Collecting kiwipiepy\n",
      "  Downloading kiwipiepy-0.20.4-cp312-cp312-manylinux_2_17_x86_64.manylinux2014_x86_64.whl.metadata (1.3 kB)\n",
      "Collecting kiwipiepy_model<0.21,>=0.20 (from kiwipiepy)\n",
      "  Downloading kiwipiepy_model-0.20.0.tar.gz (34.7 MB)\n",
      "\u001b[2K     \u001b[90m━━━━━━━━━━━━━━━━━━━━━━━━━━━━━━━━━━━━━━━\u001b[0m \u001b[32m34.7/34.7 MB\u001b[0m \u001b[31m689.2 kB/s\u001b[0m eta \u001b[36m0:00:00\u001b[0m00:01\u001b[0m00:02\u001b[0m\n",
      "\u001b[?25h  Installing build dependencies ... \u001b[?25ldone\n",
      "\u001b[?25h  Getting requirements to build wheel ... \u001b[?25ldone\n",
      "\u001b[?25h  Preparing metadata (pyproject.toml) ... \u001b[?25ldone\n",
      "\u001b[?25hRequirement already satisfied: numpy in /home/sun9sun9/python312/lib/python3.12/site-packages (from kiwipiepy) (2.2.3)\n",
      "Collecting tqdm (from kiwipiepy)\n",
      "  Downloading tqdm-4.67.1-py3-none-any.whl.metadata (57 kB)\n",
      "Downloading kiwipiepy-0.20.4-cp312-cp312-manylinux_2_17_x86_64.manylinux2014_x86_64.whl (3.6 MB)\n",
      "\u001b[2K   \u001b[90m━━━━━━━━━━━━━━━━━━━━━━━━━━━━━━━━━━━━━━━━\u001b[0m \u001b[32m3.6/3.6 MB\u001b[0m \u001b[31m194.9 kB/s\u001b[0m eta \u001b[36m0:00:00\u001b[0ma \u001b[36m0:00:01\u001b[0m\n",
      "\u001b[?25hDownloading tqdm-4.67.1-py3-none-any.whl (78 kB)\n",
      "Building wheels for collected packages: kiwipiepy_model\n",
      "  Building wheel for kiwipiepy_model (pyproject.toml) ... \u001b[?25ldone\n",
      "\u001b[?25h  Created wheel for kiwipiepy_model: filename=kiwipiepy_model-0.20.0-py3-none-any.whl size=34818073 sha256=a343ddcadd1c5333e58c14691a3c62a19fb6e65cb5086751959b0ff39d353c50\n",
      "  Stored in directory: /home/sun9sun9/.cache/pip/wheels/f3/14/24/bd3e0c3aa06df12afcb35447b07840213644855333f33bfce5\n",
      "Successfully built kiwipiepy_model\n",
      "Installing collected packages: kiwipiepy_model, tqdm, kiwipiepy\n",
      "Successfully installed kiwipiepy-0.20.4 kiwipiepy_model-0.20.0 tqdm-4.67.1\n"
     ]
    },
    {
     "data": {
      "text/plain": [
       "('kiwipiepy', '0.20.4')"
      ]
     },
     "execution_count": 9,
     "metadata": {},
     "output_type": "execute_result"
    }
   ],
   "source": [
    "try:\n",
    "    import kiwipiepy\n",
    "except:\n",
    "    !pip install --upgrade kiwipiepy\n",
    "    import kiwipiepy\n",
    "\n",
    "kiwipiepy.__name__, kiwipiepy.__version__"
   ]
  },
  {
   "cell_type": "markdown",
   "id": "d053246e-bb75-46ab-a3d7-84d9fa9142ba",
   "metadata": {},
   "source": [
    "## Tensorflow \n",
    "\n",
    "딥러닝 프레임웤: [Tensorflow](https://www.tensorflow.org/)\n",
    "\n",
    "GPU 버젼 Tensorflow 설치"
   ]
  },
  {
   "cell_type": "code",
   "execution_count": 11,
   "id": "363047ac-dba7-43d1-88ec-84c85d2df8b0",
   "metadata": {},
   "outputs": [
    {
     "name": "stderr",
     "output_type": "stream",
     "text": [
      "2025-03-15 16:36:26.212008: E external/local_xla/xla/stream_executor/cuda/cuda_fft.cc:467] Unable to register cuFFT factory: Attempting to register factory for plugin cuFFT when one has already been registered\n",
      "WARNING: All log messages before absl::InitializeLog() is called are written to STDERR\n",
      "E0000 00:00:1742024186.260040   32044 cuda_dnn.cc:8579] Unable to register cuDNN factory: Attempting to register factory for plugin cuDNN when one has already been registered\n",
      "E0000 00:00:1742024186.274547   32044 cuda_blas.cc:1407] Unable to register cuBLAS factory: Attempting to register factory for plugin cuBLAS when one has already been registered\n",
      "W0000 00:00:1742024186.373997   32044 computation_placer.cc:177] computation placer already registered. Please check linkage and avoid linking the same target more than once.\n",
      "W0000 00:00:1742024186.374025   32044 computation_placer.cc:177] computation placer already registered. Please check linkage and avoid linking the same target more than once.\n",
      "W0000 00:00:1742024186.374027   32044 computation_placer.cc:177] computation placer already registered. Please check linkage and avoid linking the same target more than once.\n",
      "W0000 00:00:1742024186.374028   32044 computation_placer.cc:177] computation placer already registered. Please check linkage and avoid linking the same target more than once.\n"
     ]
    },
    {
     "data": {
      "text/plain": [
       "('tensorflow', '2.19.0')"
      ]
     },
     "execution_count": 11,
     "metadata": {},
     "output_type": "execute_result"
    }
   ],
   "source": [
    "# TF_CPP_MIN_LOG_LEVEL: Tensorflow에서 출력할 로그의 수준을 지정합니다. \n",
    "# 0 = all messages are logged (default behavior)\n",
    "# 1 = INFO messages are not printed\n",
    "# 2 = INFO and WARNING messages are not printed\n",
    "# 3 = INFO, WARNING, and ERROR messages are not printed\n",
    "\n",
    "# 불필요한 경고 메세지가 너무 많이 나와서 내용 파악에 어려움이 있어\n",
    "# Tensorflow에서 출력하는 경고 메세지를 보이지 않게 조정합니다.\n",
    "# 개발 단계에서는 비활성화 시키지 않는 것을 권장드립니다. \n",
    "os.environ['TF_CPP_MIN_LOG_LEVEL'] = '2'\n",
    "try:\n",
    "    import tensorflow as tf\n",
    "except:\n",
    "    !pip install --upgrade tensorflow[and-cuda]\n",
    "tf.__name__, tf.__version__"
   ]
  },
  {
   "cell_type": "markdown",
   "id": "b9d2c643-cc12-4e00-a900-6174352acdea",
   "metadata": {},
   "source": [
    "## 기타"
   ]
  },
  {
   "cell_type": "markdown",
   "id": "11322450-a411-49b8-9f49-d3290f416fe6",
   "metadata": {},
   "source": [
    "### tqdm \n",
    "\n",
    "프로그레스바 모듈입니다."
   ]
  },
  {
   "cell_type": "code",
   "execution_count": 12,
   "id": "a90b42df-b3d0-466a-a1d2-29bca6545a7d",
   "metadata": {},
   "outputs": [],
   "source": [
    "try:\n",
    "    import tqdm\n",
    "except:\n",
    "    !pip install --upgrade tqdm"
   ]
  },
  {
   "cell_type": "markdown",
   "id": "e0e11395-01df-4b38-9687-78b2879040e5",
   "metadata": {},
   "source": [
    "### gdown\n",
    "\n",
    "구글 드라브에 있는 파일을 다운로드합니다."
   ]
  },
  {
   "cell_type": "code",
   "execution_count": 13,
   "id": "026b1aaf-dd48-4080-a1bb-d13cff0f966f",
   "metadata": {},
   "outputs": [
    {
     "name": "stdout",
     "output_type": "stream",
     "text": [
      "Collecting gdown\n",
      "  Downloading gdown-5.2.0-py3-none-any.whl.metadata (5.8 kB)\n",
      "Requirement already satisfied: beautifulsoup4 in /home/sun9sun9/python312/lib/python3.12/site-packages (from gdown) (4.13.3)\n",
      "Collecting filelock (from gdown)\n",
      "  Downloading filelock-3.18.0-py3-none-any.whl.metadata (2.9 kB)\n",
      "Requirement already satisfied: requests[socks] in /home/sun9sun9/python312/lib/python3.12/site-packages (from gdown) (2.32.3)\n",
      "Requirement already satisfied: tqdm in /home/sun9sun9/python312/lib/python3.12/site-packages (from gdown) (4.67.1)\n",
      "Requirement already satisfied: soupsieve>1.2 in /home/sun9sun9/python312/lib/python3.12/site-packages (from beautifulsoup4->gdown) (2.6)\n",
      "Requirement already satisfied: typing-extensions>=4.0.0 in /home/sun9sun9/python312/lib/python3.12/site-packages (from beautifulsoup4->gdown) (4.12.2)\n",
      "Requirement already satisfied: charset-normalizer<4,>=2 in /home/sun9sun9/python312/lib/python3.12/site-packages (from requests[socks]->gdown) (3.4.1)\n",
      "Requirement already satisfied: idna<4,>=2.5 in /home/sun9sun9/python312/lib/python3.12/site-packages (from requests[socks]->gdown) (3.10)\n",
      "Requirement already satisfied: urllib3<3,>=1.21.1 in /home/sun9sun9/python312/lib/python3.12/site-packages (from requests[socks]->gdown) (2.3.0)\n",
      "Requirement already satisfied: certifi>=2017.4.17 in /home/sun9sun9/python312/lib/python3.12/site-packages (from requests[socks]->gdown) (2025.1.31)\n",
      "Collecting PySocks!=1.5.7,>=1.5.6 (from requests[socks]->gdown)\n",
      "  Downloading PySocks-1.7.1-py3-none-any.whl.metadata (13 kB)\n",
      "Downloading gdown-5.2.0-py3-none-any.whl (18 kB)\n",
      "Downloading filelock-3.18.0-py3-none-any.whl (16 kB)\n",
      "Downloading PySocks-1.7.1-py3-none-any.whl (16 kB)\n",
      "Installing collected packages: PySocks, filelock, gdown\n",
      "Successfully installed PySocks-1.7.1 filelock-3.18.0 gdown-5.2.0\n"
     ]
    }
   ],
   "source": [
    "try:\n",
    "    import gdown\n",
    "except:\n",
    "    !pip install gdown"
   ]
  },
  {
   "cell_type": "markdown",
   "id": "6c68ccd3-d9c1-4421-a788-b345be04b9d3",
   "metadata": {},
   "source": [
    "## 강의 목차\n",
    "\n",
    "### 1일차\n",
    "\n",
    "**오전**\n",
    "\n",
    "1. MovieLens 데이터셋 소개\n",
    "\n",
    "2. 추천 시스템 개론 I - 초간단 추천 로직 만들기\n",
    "\n",
    "**오후**\n",
    "\n",
    "2. 추천 시스템 개론 II\n",
    "\n",
    "3. 머신 러닝 I - 지도학습\n",
    "\n",
    "### 2일차\n",
    "\n",
    "**오전**\n",
    "\n",
    "4. 머신 러닝 II - 비지도학습\n",
    "\n",
    "5. Matrix Factorization 1-1\n",
    "\n",
    "**오후**\n",
    "\n",
    "6. Matrix Factorization 1-2\n",
    "\n",
    "7. Matrix Factorization 2\n",
    "\n",
    "### 3일차\n",
    "\n",
    "**오전**\n",
    "\n",
    "8. Matrix Factorization 3\n",
    "\n",
    "**오후**\n",
    "\n",
    "9. Negative Sampling"
   ]
  },
  {
   "cell_type": "code",
   "execution_count": null,
   "id": "41b48168-ba4e-41cc-9944-4e92ae63fad5",
   "metadata": {},
   "outputs": [],
   "source": []
  }
 ],
 "metadata": {
  "kernelspec": {
   "display_name": "Python 3 (ipykernel)",
   "language": "python",
   "name": "python3"
  },
  "language_info": {
   "codemirror_mode": {
    "name": "ipython",
    "version": 3
   },
   "file_extension": ".py",
   "mimetype": "text/x-python",
   "name": "python",
   "nbconvert_exporter": "python",
   "pygments_lexer": "ipython3",
   "version": "3.12.9"
  }
 },
 "nbformat": 4,
 "nbformat_minor": 5
}
